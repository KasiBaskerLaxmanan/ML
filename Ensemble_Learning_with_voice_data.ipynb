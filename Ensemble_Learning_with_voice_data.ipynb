{
  "nbformat": 4,
  "nbformat_minor": 0,
  "metadata": {
    "kernelspec": {
      "display_name": "Python 3",
      "language": "python",
      "name": "python3"
    },
    "language_info": {
      "codemirror_mode": {
        "name": "ipython",
        "version": 3
      },
      "file_extension": ".py",
      "mimetype": "text/x-python",
      "name": "python",
      "nbconvert_exporter": "python",
      "pygments_lexer": "ipython3",
      "version": "3.7.1"
    },
    "colab": {
      "name": "Ensemble Learning with voice data.ipynb",
      "provenance": [],
      "collapsed_sections": []
    },
    "accelerator": "GPU"
  },
  "cells": [
    {
      "cell_type": "markdown",
      "metadata": {
        "id": "8RrKjV8-GJ9H"
      },
      "source": [
        "# Welcome!\n",
        "\n",
        "In this lab section we will be utilizing the data from https://www.kaggle.com/primaryobjects/voicegender#\n",
        "\n",
        "Do note that there is some tricky ethical stuff here considering that the voice of Philippe Jaroussky could be classified as Female (Countertenor) while the voice of Nathalie Stutzmann might be classified as Male (Contralto).\n",
        "\n",
        "\n",
        "For the exercise we will be following my framework TACT which is to Target, Arrange, Compose, and Transmit.\n",
        "\n",
        "Read more about it here: tactmethod.com\n"
      ]
    },
    {
      "cell_type": "markdown",
      "metadata": {
        "id": "gGds7xjKGJ9J"
      },
      "source": [
        "# What is our target?\n",
        "\n",
        "In general we want to achieve a highly precise classifier utilizing voice data (as close to 100% as possible).\n",
        "\n",
        "How do we go about doing this? There are a few directions to go in this exercise either we do feature selection, feature transformation, or ensemble learning.\n",
        "\n"
      ]
    },
    {
      "cell_type": "markdown",
      "metadata": {
        "id": "QfNqyoEDGJ9K"
      },
      "source": [
        "# Arrange data\n",
        "\n",
        "The first step is to load up the data\n",
        "\n",
        "Also it's good to note what exactly is in it:\n",
        "\n",
        "## The Dataset\n",
        "The following acoustic properties of each voice are measured and included within the CSV:\n",
        "\n",
        "* meanfreq: mean frequency (in kHz)\n",
        "* sd: standard deviation of frequency\n",
        "* median: median frequency (in kHz)\n",
        "* Q25: first quantile (in kHz)\n",
        "* Q75: third quantile (in kHz)\n",
        "* IQR: interquantile range (in kHz)\n",
        "* skew: skewness (see note in specprop description)\n",
        "* kurt: kurtosis (see note in specprop description)\n",
        "* sp.ent: spectral entropy\n",
        "* sfm: spectral flatness\n",
        "* mode: mode frequency\n",
        "* centroid: frequency centroid (see specprop)\n",
        "* peakf: peak frequency (frequency with highest energy)\n",
        "* meanfun: average of fundamental frequency measured across acoustic signal\n",
        "* minfun: minimum fundamental frequency measured across acoustic signal\n",
        "* maxfun: maximum fundamental frequency measured across acoustic signal\n",
        "* meandom: average of dominant frequency measured across acoustic signal\n",
        "* mindom: minimum of dominant frequency measured across acoustic signal\n",
        "* maxdom: maximum of dominant frequency measured across acoustic signal\n",
        "* dfrange: range of dominant frequency measured across acoustic signal\n",
        "* modindx: modulation index. Calculated as the accumulated absolute difference between adjacent measurements of fundamental frequencies divided by the frequency range\n",
        "* label: male or female (Note that we don't want to classify on this!)"
      ]
    },
    {
      "cell_type": "code",
      "metadata": {
        "id": "0sm7Nhs4GJ9L"
      },
      "source": [
        "#!pip install pandas\n",
        "import pandas as pd\n",
        "\n",
        "df = pd.read_csv('/content/voice.csv') \n",
        "\n",
        "y = df['label']\n",
        "X = df[set(df.columns) - set(['label'])]"
      ],
      "execution_count": 4,
      "outputs": []
    },
    {
      "cell_type": "code",
      "metadata": {
        "id": "Mpc926DxGJ-A",
        "outputId": "6a494814-4654-4a10-b088-b8a86b6dc220",
        "colab": {
          "base_uri": "https://localhost:8080/",
          "height": 54
        }
      },
      "source": [
        "!more ~/Documents/pyMattHarrison/Ensemble_DeepLearning/practical-machine-learning-master/data/voice.csv"
      ],
      "execution_count": 5,
      "outputs": [
        {
          "output_type": "stream",
          "text": [
            "more: stat of /root/Documents/pyMattHarrison/Ensemble_DeepLearning/practical-machine-learning-master/data/voice.csv failed: No such file or directory\n"
          ],
          "name": "stdout"
        }
      ]
    },
    {
      "cell_type": "code",
      "metadata": {
        "id": "XWTZPf1ZIgta",
        "outputId": "d4013ab3-f562-4c3d-ea6e-a71df31bff67",
        "colab": {
          "base_uri": "https://localhost:8080/",
          "height": 1000
        }
      },
      "source": [
        "df.info()\n",
        "df.describe().T"
      ],
      "execution_count": 23,
      "outputs": [
        {
          "output_type": "stream",
          "text": [
            "<class 'pandas.core.frame.DataFrame'>\n",
            "RangeIndex: 3168 entries, 0 to 3167\n",
            "Data columns (total 21 columns):\n",
            " #   Column    Non-Null Count  Dtype  \n",
            "---  ------    --------------  -----  \n",
            " 0   meanfreq  3168 non-null   float64\n",
            " 1   sd        3168 non-null   float64\n",
            " 2   median    3168 non-null   float64\n",
            " 3   Q25       3168 non-null   float64\n",
            " 4   Q75       3168 non-null   float64\n",
            " 5   IQR       3168 non-null   float64\n",
            " 6   skew      3168 non-null   float64\n",
            " 7   kurt      3168 non-null   float64\n",
            " 8   sp.ent    3168 non-null   float64\n",
            " 9   sfm       3168 non-null   float64\n",
            " 10  mode      3168 non-null   float64\n",
            " 11  centroid  3168 non-null   float64\n",
            " 12  meanfun   3168 non-null   float64\n",
            " 13  minfun    3168 non-null   float64\n",
            " 14  maxfun    3168 non-null   float64\n",
            " 15  meandom   3168 non-null   float64\n",
            " 16  mindom    3168 non-null   float64\n",
            " 17  maxdom    3168 non-null   float64\n",
            " 18  dfrange   3168 non-null   float64\n",
            " 19  modindx   3168 non-null   float64\n",
            " 20  label     3168 non-null   object \n",
            "dtypes: float64(20), object(1)\n",
            "memory usage: 519.9+ KB\n"
          ],
          "name": "stdout"
        },
        {
          "output_type": "execute_result",
          "data": {
            "text/html": [
              "<div>\n",
              "<style scoped>\n",
              "    .dataframe tbody tr th:only-of-type {\n",
              "        vertical-align: middle;\n",
              "    }\n",
              "\n",
              "    .dataframe tbody tr th {\n",
              "        vertical-align: top;\n",
              "    }\n",
              "\n",
              "    .dataframe thead th {\n",
              "        text-align: right;\n",
              "    }\n",
              "</style>\n",
              "<table border=\"1\" class=\"dataframe\">\n",
              "  <thead>\n",
              "    <tr style=\"text-align: right;\">\n",
              "      <th></th>\n",
              "      <th>count</th>\n",
              "      <th>mean</th>\n",
              "      <th>std</th>\n",
              "      <th>min</th>\n",
              "      <th>25%</th>\n",
              "      <th>50%</th>\n",
              "      <th>75%</th>\n",
              "      <th>max</th>\n",
              "    </tr>\n",
              "  </thead>\n",
              "  <tbody>\n",
              "    <tr>\n",
              "      <th>meanfreq</th>\n",
              "      <td>3168.0</td>\n",
              "      <td>0.180907</td>\n",
              "      <td>0.029918</td>\n",
              "      <td>0.039363</td>\n",
              "      <td>0.163662</td>\n",
              "      <td>0.184838</td>\n",
              "      <td>0.199146</td>\n",
              "      <td>0.251124</td>\n",
              "    </tr>\n",
              "    <tr>\n",
              "      <th>sd</th>\n",
              "      <td>3168.0</td>\n",
              "      <td>0.057126</td>\n",
              "      <td>0.016652</td>\n",
              "      <td>0.018363</td>\n",
              "      <td>0.041954</td>\n",
              "      <td>0.059155</td>\n",
              "      <td>0.067020</td>\n",
              "      <td>0.115273</td>\n",
              "    </tr>\n",
              "    <tr>\n",
              "      <th>median</th>\n",
              "      <td>3168.0</td>\n",
              "      <td>0.185621</td>\n",
              "      <td>0.036360</td>\n",
              "      <td>0.010975</td>\n",
              "      <td>0.169593</td>\n",
              "      <td>0.190032</td>\n",
              "      <td>0.210618</td>\n",
              "      <td>0.261224</td>\n",
              "    </tr>\n",
              "    <tr>\n",
              "      <th>Q25</th>\n",
              "      <td>3168.0</td>\n",
              "      <td>0.140456</td>\n",
              "      <td>0.048680</td>\n",
              "      <td>0.000229</td>\n",
              "      <td>0.111087</td>\n",
              "      <td>0.140286</td>\n",
              "      <td>0.175939</td>\n",
              "      <td>0.247347</td>\n",
              "    </tr>\n",
              "    <tr>\n",
              "      <th>Q75</th>\n",
              "      <td>3168.0</td>\n",
              "      <td>0.224765</td>\n",
              "      <td>0.023639</td>\n",
              "      <td>0.042946</td>\n",
              "      <td>0.208747</td>\n",
              "      <td>0.225684</td>\n",
              "      <td>0.243660</td>\n",
              "      <td>0.273469</td>\n",
              "    </tr>\n",
              "    <tr>\n",
              "      <th>IQR</th>\n",
              "      <td>3168.0</td>\n",
              "      <td>0.084309</td>\n",
              "      <td>0.042783</td>\n",
              "      <td>0.014558</td>\n",
              "      <td>0.042560</td>\n",
              "      <td>0.094280</td>\n",
              "      <td>0.114175</td>\n",
              "      <td>0.252225</td>\n",
              "    </tr>\n",
              "    <tr>\n",
              "      <th>skew</th>\n",
              "      <td>3168.0</td>\n",
              "      <td>3.140168</td>\n",
              "      <td>4.240529</td>\n",
              "      <td>0.141735</td>\n",
              "      <td>1.649569</td>\n",
              "      <td>2.197101</td>\n",
              "      <td>2.931694</td>\n",
              "      <td>34.725453</td>\n",
              "    </tr>\n",
              "    <tr>\n",
              "      <th>kurt</th>\n",
              "      <td>3168.0</td>\n",
              "      <td>36.568461</td>\n",
              "      <td>134.928661</td>\n",
              "      <td>2.068455</td>\n",
              "      <td>5.669547</td>\n",
              "      <td>8.318463</td>\n",
              "      <td>13.648905</td>\n",
              "      <td>1309.612887</td>\n",
              "    </tr>\n",
              "    <tr>\n",
              "      <th>sp.ent</th>\n",
              "      <td>3168.0</td>\n",
              "      <td>0.895127</td>\n",
              "      <td>0.044980</td>\n",
              "      <td>0.738651</td>\n",
              "      <td>0.861811</td>\n",
              "      <td>0.901767</td>\n",
              "      <td>0.928713</td>\n",
              "      <td>0.981997</td>\n",
              "    </tr>\n",
              "    <tr>\n",
              "      <th>sfm</th>\n",
              "      <td>3168.0</td>\n",
              "      <td>0.408216</td>\n",
              "      <td>0.177521</td>\n",
              "      <td>0.036876</td>\n",
              "      <td>0.258041</td>\n",
              "      <td>0.396335</td>\n",
              "      <td>0.533676</td>\n",
              "      <td>0.842936</td>\n",
              "    </tr>\n",
              "    <tr>\n",
              "      <th>mode</th>\n",
              "      <td>3168.0</td>\n",
              "      <td>0.165282</td>\n",
              "      <td>0.077203</td>\n",
              "      <td>0.000000</td>\n",
              "      <td>0.118016</td>\n",
              "      <td>0.186599</td>\n",
              "      <td>0.221104</td>\n",
              "      <td>0.280000</td>\n",
              "    </tr>\n",
              "    <tr>\n",
              "      <th>centroid</th>\n",
              "      <td>3168.0</td>\n",
              "      <td>0.180907</td>\n",
              "      <td>0.029918</td>\n",
              "      <td>0.039363</td>\n",
              "      <td>0.163662</td>\n",
              "      <td>0.184838</td>\n",
              "      <td>0.199146</td>\n",
              "      <td>0.251124</td>\n",
              "    </tr>\n",
              "    <tr>\n",
              "      <th>meanfun</th>\n",
              "      <td>3168.0</td>\n",
              "      <td>0.142807</td>\n",
              "      <td>0.032304</td>\n",
              "      <td>0.055565</td>\n",
              "      <td>0.116998</td>\n",
              "      <td>0.140519</td>\n",
              "      <td>0.169581</td>\n",
              "      <td>0.237636</td>\n",
              "    </tr>\n",
              "    <tr>\n",
              "      <th>minfun</th>\n",
              "      <td>3168.0</td>\n",
              "      <td>0.036802</td>\n",
              "      <td>0.019220</td>\n",
              "      <td>0.009775</td>\n",
              "      <td>0.018223</td>\n",
              "      <td>0.046110</td>\n",
              "      <td>0.047904</td>\n",
              "      <td>0.204082</td>\n",
              "    </tr>\n",
              "    <tr>\n",
              "      <th>maxfun</th>\n",
              "      <td>3168.0</td>\n",
              "      <td>0.258842</td>\n",
              "      <td>0.030077</td>\n",
              "      <td>0.103093</td>\n",
              "      <td>0.253968</td>\n",
              "      <td>0.271186</td>\n",
              "      <td>0.277457</td>\n",
              "      <td>0.279114</td>\n",
              "    </tr>\n",
              "    <tr>\n",
              "      <th>meandom</th>\n",
              "      <td>3168.0</td>\n",
              "      <td>0.829211</td>\n",
              "      <td>0.525205</td>\n",
              "      <td>0.007812</td>\n",
              "      <td>0.419828</td>\n",
              "      <td>0.765795</td>\n",
              "      <td>1.177166</td>\n",
              "      <td>2.957682</td>\n",
              "    </tr>\n",
              "    <tr>\n",
              "      <th>mindom</th>\n",
              "      <td>3168.0</td>\n",
              "      <td>0.052647</td>\n",
              "      <td>0.063299</td>\n",
              "      <td>0.004883</td>\n",
              "      <td>0.007812</td>\n",
              "      <td>0.023438</td>\n",
              "      <td>0.070312</td>\n",
              "      <td>0.458984</td>\n",
              "    </tr>\n",
              "    <tr>\n",
              "      <th>maxdom</th>\n",
              "      <td>3168.0</td>\n",
              "      <td>5.047277</td>\n",
              "      <td>3.521157</td>\n",
              "      <td>0.007812</td>\n",
              "      <td>2.070312</td>\n",
              "      <td>4.992188</td>\n",
              "      <td>7.007812</td>\n",
              "      <td>21.867188</td>\n",
              "    </tr>\n",
              "    <tr>\n",
              "      <th>dfrange</th>\n",
              "      <td>3168.0</td>\n",
              "      <td>4.994630</td>\n",
              "      <td>3.520039</td>\n",
              "      <td>0.000000</td>\n",
              "      <td>2.044922</td>\n",
              "      <td>4.945312</td>\n",
              "      <td>6.992188</td>\n",
              "      <td>21.843750</td>\n",
              "    </tr>\n",
              "    <tr>\n",
              "      <th>modindx</th>\n",
              "      <td>3168.0</td>\n",
              "      <td>0.173752</td>\n",
              "      <td>0.119454</td>\n",
              "      <td>0.000000</td>\n",
              "      <td>0.099766</td>\n",
              "      <td>0.139357</td>\n",
              "      <td>0.209183</td>\n",
              "      <td>0.932374</td>\n",
              "    </tr>\n",
              "  </tbody>\n",
              "</table>\n",
              "</div>"
            ],
            "text/plain": [
              "           count       mean         std  ...       50%        75%          max\n",
              "meanfreq  3168.0   0.180907    0.029918  ...  0.184838   0.199146     0.251124\n",
              "sd        3168.0   0.057126    0.016652  ...  0.059155   0.067020     0.115273\n",
              "median    3168.0   0.185621    0.036360  ...  0.190032   0.210618     0.261224\n",
              "Q25       3168.0   0.140456    0.048680  ...  0.140286   0.175939     0.247347\n",
              "Q75       3168.0   0.224765    0.023639  ...  0.225684   0.243660     0.273469\n",
              "IQR       3168.0   0.084309    0.042783  ...  0.094280   0.114175     0.252225\n",
              "skew      3168.0   3.140168    4.240529  ...  2.197101   2.931694    34.725453\n",
              "kurt      3168.0  36.568461  134.928661  ...  8.318463  13.648905  1309.612887\n",
              "sp.ent    3168.0   0.895127    0.044980  ...  0.901767   0.928713     0.981997\n",
              "sfm       3168.0   0.408216    0.177521  ...  0.396335   0.533676     0.842936\n",
              "mode      3168.0   0.165282    0.077203  ...  0.186599   0.221104     0.280000\n",
              "centroid  3168.0   0.180907    0.029918  ...  0.184838   0.199146     0.251124\n",
              "meanfun   3168.0   0.142807    0.032304  ...  0.140519   0.169581     0.237636\n",
              "minfun    3168.0   0.036802    0.019220  ...  0.046110   0.047904     0.204082\n",
              "maxfun    3168.0   0.258842    0.030077  ...  0.271186   0.277457     0.279114\n",
              "meandom   3168.0   0.829211    0.525205  ...  0.765795   1.177166     2.957682\n",
              "mindom    3168.0   0.052647    0.063299  ...  0.023438   0.070312     0.458984\n",
              "maxdom    3168.0   5.047277    3.521157  ...  4.992188   7.007812    21.867188\n",
              "dfrange   3168.0   4.994630    3.520039  ...  4.945312   6.992188    21.843750\n",
              "modindx   3168.0   0.173752    0.119454  ...  0.139357   0.209183     0.932374\n",
              "\n",
              "[20 rows x 8 columns]"
            ]
          },
          "metadata": {
            "tags": []
          },
          "execution_count": 23
        }
      ]
    },
    {
      "cell_type": "markdown",
      "metadata": {
        "id": "-LK9dLgCGJ-G"
      },
      "source": [
        "# Strawman Model\n",
        "\n",
        "Always always start with a baseline model. What is a decent enough model and what isn't?\n",
        "\n",
        "KNN and Naive Bayesian models are pretty easy to utilize and generally get someone started\n",
        "\n",
        "Can we make this better?"
      ]
    },
    {
      "cell_type": "code",
      "metadata": {
        "id": "ptd_lDcjGJ-H",
        "outputId": "0824cf48-3153-4ff7-b0a1-1b752dab8854",
        "colab": {
          "base_uri": "https://localhost:8080/",
          "height": 372
        }
      },
      "source": [
        "from sklearn.model_selection import train_test_split\n",
        "from sklearn.neighbors import KNeighborsClassifier\n",
        "from sklearn.naive_bayes import BernoulliNB\n",
        "from sklearn.metrics import classification_report\n",
        "\n",
        "# K-Nearest Neighbors is usually where the introduction class leaves off\n",
        "X_train, X_test, y_train, y_test = train_test_split(X, y)\n",
        "knn = KNeighborsClassifier()\n",
        "knn.fit(X_train, y_train)\n",
        "nb = BernoulliNB()\n",
        "nb.fit(X_train, y_train)\n",
        "\n",
        "print(\"KNN\")\n",
        "print(classification_report(knn.predict(X_test), y_test))\n",
        "print(\"Naive Bayesian\")\n",
        "print(classification_report(nb.predict(X_test), y_test))"
      ],
      "execution_count": 6,
      "outputs": [
        {
          "output_type": "stream",
          "text": [
            "KNN\n",
            "              precision    recall  f1-score   support\n",
            "\n",
            "      female       0.69      0.74      0.71       363\n",
            "        male       0.76      0.72      0.74       429\n",
            "\n",
            "    accuracy                           0.73       792\n",
            "   macro avg       0.73      0.73      0.73       792\n",
            "weighted avg       0.73      0.73      0.73       792\n",
            "\n",
            "Naive Bayesian\n",
            "              precision    recall  f1-score   support\n",
            "\n",
            "      female       0.94      0.51      0.66       724\n",
            "        male       0.11      0.68      0.19        68\n",
            "\n",
            "    accuracy                           0.52       792\n",
            "   macro avg       0.53      0.59      0.43       792\n",
            "weighted avg       0.87      0.52      0.62       792\n",
            "\n"
          ],
          "name": "stdout"
        }
      ]
    },
    {
      "cell_type": "markdown",
      "metadata": {
        "id": "U2HcgAwKGJ-L"
      },
      "source": [
        "# Thoughts?\n",
        "\n",
        "What are your thoughts on the above classification report. Note that when we look at KNN the precision is around 70% which is ok, but not great. Can we do better by selecting better features? OR transforming features?"
      ]
    },
    {
      "cell_type": "markdown",
      "metadata": {
        "id": "aPGyYCvhGJ-L"
      },
      "source": [
        "# Feature Selection\n",
        "\n",
        "Looking at the data what is a good feature?\n",
        "\n",
        "In general there are a few directions to go here. We can look at Feature Importance by running this through a classifier, or we could look at variance thresholds"
      ]
    },
    {
      "cell_type": "code",
      "metadata": {
        "id": "l20HgIL8GJ-M",
        "outputId": "d1f2143d-4795-4adb-f1c6-a73536c3b84b",
        "colab": {
          "base_uri": "https://localhost:8080/",
          "height": 158
        }
      },
      "source": [
        "from sklearn.svm import LinearSVC\n",
        "from sklearn.feature_selection import SelectFromModel\n",
        "\n",
        "# If we take the data and fit it into a small support vector machine\n",
        "# We can figure out what has the highest weighting and then turn it into a new transformer\n",
        "# SelectFromModel does the heavy lifting\n",
        "# l1 is more contrained but can use l2 as well.\n",
        "\n",
        "lsvc = LinearSVC(C=0.01, penalty=\"l2\", dual=False).fit(X, y)\n",
        "model = SelectFromModel(lsvc, prefit=True)\n",
        "X_new = model.transform(X)\n",
        "print(X_new.shape)\n",
        "print(X_new[10:])"
      ],
      "execution_count": 30,
      "outputs": [
        {
          "output_type": "stream",
          "text": [
            "(3168, 5)\n",
            "[[0.73369288 0.96524914 0.10142993 0.08889398 0.11530982]\n",
            " [0.75204201 0.96600378 0.08731383 0.10419932 0.11542553]\n",
            " [0.73614996 0.96351353 0.0831449  0.09264402 0.12608187]\n",
            " ...\n",
            " [0.65419636 0.94685426 0.03342387 0.20991768 0.19093638]\n",
            " [0.67546972 0.95043638 0.0435081  0.172375   0.1764347 ]\n",
            " [0.60152881 0.93882942 0.0700715  0.18560693 0.18075587]]\n"
          ],
          "name": "stdout"
        }
      ]
    },
    {
      "cell_type": "code",
      "metadata": {
        "id": "YI18R8w7GJ-S",
        "outputId": "a1e0206d-32f3-4b09-8db5-48c5fedb86ce",
        "colab": {
          "base_uri": "https://localhost:8080/",
          "height": 427
        }
      },
      "source": [
        "knn = KNeighborsClassifier()\n",
        "knn.fit(model.transform(X_train), y_train)\n",
        "nb = BernoulliNB()\n",
        "nb.fit(model.transform(X_train), y_train)\n",
        "\n",
        "print(\"KNN\")\n",
        "print(classification_report(knn.predict(model.transform(X_test)), y_test))\n",
        "print(\"Naive Bayesian\")\n",
        "print(classification_report(nb.predict(model.transform(X_test)), y_test))"
      ],
      "execution_count": 8,
      "outputs": [
        {
          "output_type": "stream",
          "text": [
            "KNN\n",
            "              precision    recall  f1-score   support\n",
            "\n",
            "      female       0.69      0.71      0.70       375\n",
            "        male       0.74      0.71      0.72       417\n",
            "\n",
            "    accuracy                           0.71       792\n",
            "   macro avg       0.71      0.71      0.71       792\n",
            "weighted avg       0.71      0.71      0.71       792\n",
            "\n",
            "Naive Bayesian\n",
            "              precision    recall  f1-score   support\n",
            "\n",
            "      female       1.00      0.49      0.66       792\n",
            "        male       0.00      0.00      0.00         0\n",
            "\n",
            "    accuracy                           0.49       792\n",
            "   macro avg       0.50      0.24      0.33       792\n",
            "weighted avg       1.00      0.49      0.66       792\n",
            "\n"
          ],
          "name": "stdout"
        },
        {
          "output_type": "stream",
          "text": [
            "/usr/local/lib/python3.6/dist-packages/sklearn/metrics/_classification.py:1272: UndefinedMetricWarning: Recall and F-score are ill-defined and being set to 0.0 in labels with no true samples. Use `zero_division` parameter to control this behavior.\n",
            "  _warn_prf(average, modifier, msg_start, len(result))\n"
          ],
          "name": "stderr"
        }
      ]
    },
    {
      "cell_type": "code",
      "metadata": {
        "id": "swMkYOYqGJ-V",
        "outputId": "20c59640-31bd-48ff-acbf-fc0302966025",
        "colab": {
          "base_uri": "https://localhost:8080/",
          "height": 34
        }
      },
      "source": [
        "from sklearn.ensemble import ExtraTreesClassifier\n",
        "\n",
        "# Tree based models can also determine what is most indicative by looking at feature importance\n",
        "# Feature importances are usually what are the attributes that yield the biggest change to the outcome\n",
        "\n",
        "clf = ExtraTreesClassifier(n_estimators=50)\n",
        "clf = clf.fit(X, y)\n",
        "model = SelectFromModel(clf, prefit=True)\n",
        "X_new = model.transform(X)\n",
        "X_new.shape"
      ],
      "execution_count": 9,
      "outputs": [
        {
          "output_type": "execute_result",
          "data": {
            "text/plain": [
              "(3168, 5)"
            ]
          },
          "metadata": {
            "tags": []
          },
          "execution_count": 9
        }
      ]
    },
    {
      "cell_type": "code",
      "metadata": {
        "id": "snkB6vwBGJ-b",
        "outputId": "e61fb5ac-6fdc-4a97-b84d-6261572de939",
        "colab": {
          "base_uri": "https://localhost:8080/",
          "height": 427
        }
      },
      "source": [
        "knn = KNeighborsClassifier()\n",
        "knn.fit(model.transform(X_train), y_train)\n",
        "nb = BernoulliNB()\n",
        "nb.fit(model.transform(X_train), y_train)\n",
        "\n",
        "print(\"KNN\")\n",
        "print(classification_report(knn.predict(model.transform(X_test)), y_test))\n",
        "print(\"Naive Bayesian\")\n",
        "print(classification_report(nb.predict(model.transform(X_test)), y_test))"
      ],
      "execution_count": 10,
      "outputs": [
        {
          "output_type": "stream",
          "text": [
            "KNN\n",
            "              precision    recall  f1-score   support\n",
            "\n",
            "      female       0.99      0.97      0.98       394\n",
            "        male       0.97      0.99      0.98       398\n",
            "\n",
            "    accuracy                           0.98       792\n",
            "   macro avg       0.98      0.98      0.98       792\n",
            "weighted avg       0.98      0.98      0.98       792\n",
            "\n",
            "Naive Bayesian\n",
            "              precision    recall  f1-score   support\n",
            "\n",
            "      female       1.00      0.49      0.66       792\n",
            "        male       0.00      0.00      0.00         0\n",
            "\n",
            "    accuracy                           0.49       792\n",
            "   macro avg       0.50      0.24      0.33       792\n",
            "weighted avg       1.00      0.49      0.66       792\n",
            "\n"
          ],
          "name": "stdout"
        },
        {
          "output_type": "stream",
          "text": [
            "/usr/local/lib/python3.6/dist-packages/sklearn/metrics/_classification.py:1272: UndefinedMetricWarning: Recall and F-score are ill-defined and being set to 0.0 in labels with no true samples. Use `zero_division` parameter to control this behavior.\n",
            "  _warn_prf(average, modifier, msg_start, len(result))\n"
          ],
          "name": "stderr"
        }
      ]
    },
    {
      "cell_type": "markdown",
      "metadata": {
        "id": "jzxQ8F8iGJ-k"
      },
      "source": [
        "# What do you get from the above classification?\n",
        "\n",
        "Note that having a precision of 97% purely based on selecting the right features is pretty good!\n",
        "\n",
        "A tree based approach seems to yield some fruit."
      ]
    },
    {
      "cell_type": "code",
      "metadata": {
        "id": "pxi3aO9BGJ-k",
        "outputId": "9786925c-486d-4405-e0a5-e60c10c5d0a4",
        "colab": {
          "base_uri": "https://localhost:8080/",
          "height": 594
        }
      },
      "source": [
        "# Visualize the differences\\\n",
        "import pandas as pd\n",
        "import numpy as np\n",
        "from sklearn.preprocessing import MinMaxScaler\n",
        "import matplotlib.pyplot as plt\n",
        "\n",
        "pd.Series(dict(zip(X.columns, clf.feature_importances_))).plot.bar()\n",
        "plt.show()\n",
        "pd.Series(dict(zip(X.columns, lsvc.coef_[0]))).plot.bar()\n",
        "plt.show()\n",
        "# view.plot.bar()"
      ],
      "execution_count": 11,
      "outputs": [
        {
          "output_type": "display_data",
          "data": {
            "image/png": "[encoded data removed]",
            "text/plain": [
              "<Figure size 432x288 with 1 Axes>"
            ]
          },
          "metadata": {
            "tags": [],
            "needs_background": "light"
          }
        },
        {
          "output_type": "display_data",
          "data": {
            "image/png": "[encoded data removed]",
            "text/plain": [
              "<Figure size 432x288 with 1 Axes>"
            ]
          },
          "metadata": {
            "tags": [],
            "needs_background": "light"
          }
        }
      ]
    },
    {
      "cell_type": "markdown",
      "metadata": {
        "id": "RolJD438GJ-o"
      },
      "source": [
        "# What do you learn from this?\n",
        "\n",
        "Looking at the plots above what can you learn? What is the most important feature as it relates to gendered voice given tree classifications?\n",
        "\n",
        "What is the most important coefficient for a linear model?"
      ]
    },
    {
      "cell_type": "markdown",
      "metadata": {
        "id": "p0K6ii8tGJ-p"
      },
      "source": [
        "# Feature Transformation\n",
        "\n",
        "Above we selected features that are most likely to help us classify. But what if we don't want to give up on features? What if we want to keep it all?\n",
        "\n",
        "There are generally a few directions we can go in.\n",
        "\n",
        "https://scikit-learn.org/stable/modules/classes.html#module-sklearn.decomposition\n",
        "\n",
        "Here's a bunch of options ranked from simplistic to state of the art\n",
        "\n",
        "* PCA (Principal Component Analysis)\n",
        "* ICA (Independent Component Analysis)\n",
        "* UMAP (Uniform Manifold Approximation and Projection for Dimension Reduction)"
      ]
    },
    {
      "cell_type": "code",
      "metadata": {
        "id": "0dmyEMxUGJ-p",
        "outputId": "346ffa62-b7b1-47ef-f2e5-e3cb8291961d",
        "colab": {
          "base_uri": "https://localhost:8080/",
          "height": 372
        }
      },
      "source": [
        "# PCA (usually 2 components is a start)\n",
        "from sklearn.decomposition import PCA\n",
        "\n",
        "model = PCA(n_components=4)\n",
        "model.fit(X)\n",
        "\n",
        "knn = KNeighborsClassifier()\n",
        "knn.fit(model.transform(X_train), y_train)\n",
        "nb = BernoulliNB()\n",
        "nb.fit(model.transform(X_train), y_train)\n",
        "\n",
        "print(\"KNN\")\n",
        "print(classification_report(knn.predict(model.transform(X_test)), y_test))\n",
        "print(\"Naive Bayesian\")\n",
        "print(classification_report(nb.predict(model.transform(X_test)), y_test))"
      ],
      "execution_count": 12,
      "outputs": [
        {
          "output_type": "stream",
          "text": [
            "KNN\n",
            "              precision    recall  f1-score   support\n",
            "\n",
            "      female       0.66      0.71      0.69       363\n",
            "        male       0.74      0.70      0.72       429\n",
            "\n",
            "    accuracy                           0.70       792\n",
            "   macro avg       0.70      0.70      0.70       792\n",
            "weighted avg       0.71      0.70      0.70       792\n",
            "\n",
            "Naive Bayesian\n",
            "              precision    recall  f1-score   support\n",
            "\n",
            "      female       0.59      0.72      0.65       317\n",
            "        male       0.78      0.66      0.72       475\n",
            "\n",
            "    accuracy                           0.69       792\n",
            "   macro avg       0.68      0.69      0.68       792\n",
            "weighted avg       0.70      0.69      0.69       792\n",
            "\n"
          ],
          "name": "stdout"
        }
      ]
    },
    {
      "cell_type": "code",
      "metadata": {
        "id": "iaPKqskNGJ-t",
        "outputId": "818f3f2f-bfc1-44c0-fd4e-0f3143ad718f",
        "colab": {
          "base_uri": "https://localhost:8080/",
          "height": 372
        }
      },
      "source": [
        "from sklearn.decomposition import FastICA\n",
        "\n",
        "model = FastICA(4)\n",
        "model.fit(X)\n",
        "\n",
        "knn = KNeighborsClassifier()\n",
        "knn.fit(model.transform(X_train), y_train)\n",
        "nb = BernoulliNB()\n",
        "nb.fit(model.transform(X_train), y_train)\n",
        "\n",
        "print(\"KNN\")\n",
        "print(classification_report(knn.predict(model.transform(X_test)), y_test))\n",
        "print(\"Naive Bayesian\")\n",
        "print(classification_report(nb.predict(model.transform(X_test)), y_test))"
      ],
      "execution_count": 13,
      "outputs": [
        {
          "output_type": "stream",
          "text": [
            "KNN\n",
            "              precision    recall  f1-score   support\n",
            "\n",
            "      female       0.73      0.74      0.73       381\n",
            "        male       0.75      0.74      0.75       411\n",
            "\n",
            "    accuracy                           0.74       792\n",
            "   macro avg       0.74      0.74      0.74       792\n",
            "weighted avg       0.74      0.74      0.74       792\n",
            "\n",
            "Naive Bayesian\n",
            "              precision    recall  f1-score   support\n",
            "\n",
            "      female       0.78      0.61      0.68       492\n",
            "        male       0.53      0.71      0.61       300\n",
            "\n",
            "    accuracy                           0.65       792\n",
            "   macro avg       0.65      0.66      0.64       792\n",
            "weighted avg       0.68      0.65      0.65       792\n",
            "\n"
          ],
          "name": "stdout"
        }
      ]
    },
    {
      "cell_type": "code",
      "metadata": {
        "id": "-tdDnYeJGJ-2",
        "outputId": "c824c19f-d941-4805-9f11-612623d5b5c9",
        "colab": {
          "base_uri": "https://localhost:8080/",
          "height": 372
        }
      },
      "source": [
        "import umap\n",
        "\n",
        "model = umap.UMAP()\n",
        "model.fit(X)\n",
        "\n",
        "knn = KNeighborsClassifier()\n",
        "knn.fit(model.transform(X_train), y_train)\n",
        "nb = BernoulliNB()\n",
        "nb.fit(model.transform(X_train), y_train)\n",
        "\n",
        "print(\"KNN\")\n",
        "print(classification_report(knn.predict(model.transform(X_test)), y_test))\n",
        "print(\"Naive Bayesian\")\n",
        "print(classification_report(nb.predict(model.transform(X_test)), y_test))"
      ],
      "execution_count": 14,
      "outputs": [
        {
          "output_type": "stream",
          "text": [
            "KNN\n",
            "              precision    recall  f1-score   support\n",
            "\n",
            "      female       0.66      0.65      0.65       394\n",
            "        male       0.66      0.67      0.66       398\n",
            "\n",
            "    accuracy                           0.66       792\n",
            "   macro avg       0.66      0.66      0.66       792\n",
            "weighted avg       0.66      0.66      0.66       792\n",
            "\n",
            "Naive Bayesian\n",
            "              precision    recall  f1-score   support\n",
            "\n",
            "      female       0.84      0.60      0.70       546\n",
            "        male       0.45      0.74      0.56       246\n",
            "\n",
            "    accuracy                           0.64       792\n",
            "   macro avg       0.65      0.67      0.63       792\n",
            "weighted avg       0.72      0.64      0.65       792\n",
            "\n"
          ],
          "name": "stdout"
        }
      ]
    },
    {
      "cell_type": "markdown",
      "metadata": {
        "id": "-p85rBzsGJ-7"
      },
      "source": [
        "# Not the best results but what did we learn?\n",
        "\n",
        "In the above sections we tried out selecting better features and even transforming the existing features into a new matrix. The best approach from above was using KNN with Tree based selection. While that's true, can we utilize a better algorithm to get even better results?"
      ]
    },
    {
      "cell_type": "markdown",
      "metadata": {
        "id": "H3syV3i8GJ-8"
      },
      "source": [
        "# Ensemble Learning\n",
        "\n",
        "In general ensemble learning shows up either as bagging, or boosting, sometimes bayesian selection.\n",
        "\n",
        "In this section we'll show the results of Bagging first and then Random Forests and then Boosting using XgBoost (state of the art)."
      ]
    },
    {
      "cell_type": "code",
      "metadata": {
        "id": "6zuozHkGGJ-8",
        "outputId": "27db5366-1556-4b1b-aa12-110d742fcf13",
        "colab": {
          "base_uri": "https://localhost:8080/",
          "height": 176
        }
      },
      "source": [
        "from sklearn.ensemble import BaggingClassifier\n",
        "from sklearn.svm import SVC\n",
        "\n",
        "model = BaggingClassifier()\n",
        "model.fit(X_train, y_train)\n",
        "\n",
        "print(classification_report(model.predict(X_test), y_test))"
      ],
      "execution_count": 15,
      "outputs": [
        {
          "output_type": "stream",
          "text": [
            "              precision    recall  f1-score   support\n",
            "\n",
            "      female       0.98      0.96      0.97       394\n",
            "        male       0.97      0.98      0.97       398\n",
            "\n",
            "    accuracy                           0.97       792\n",
            "   macro avg       0.97      0.97      0.97       792\n",
            "weighted avg       0.97      0.97      0.97       792\n",
            "\n"
          ],
          "name": "stdout"
        }
      ]
    },
    {
      "cell_type": "markdown",
      "metadata": {
        "id": "ahHAe53fGJ_A"
      },
      "source": [
        "# Great results! can we do better?"
      ]
    },
    {
      "cell_type": "code",
      "metadata": {
        "id": "FRfBSDjJGJ_A",
        "outputId": "cd7daa8c-408d-4712-e83e-bd207a45101d",
        "colab": {
          "base_uri": "https://localhost:8080/",
          "height": 232
        }
      },
      "source": [
        "from sklearn.pipeline import Pipeline\n",
        "\n",
        "pipe = Pipeline([\n",
        "    ('feature_selection', SelectFromModel(LinearSVC(C=0.01))),\n",
        "    ('bagger', BaggingClassifier())])\n",
        "\n",
        "\n",
        "pipe.fit(X_train, y_train)\n",
        "\n",
        "print(classification_report(pipe.predict(X_test), y_test))"
      ],
      "execution_count": 16,
      "outputs": [
        {
          "output_type": "stream",
          "text": [
            "              precision    recall  f1-score   support\n",
            "\n",
            "      female       0.99      0.96      0.97       403\n",
            "        male       0.96      0.99      0.97       389\n",
            "\n",
            "    accuracy                           0.97       792\n",
            "   macro avg       0.97      0.97      0.97       792\n",
            "weighted avg       0.97      0.97      0.97       792\n",
            "\n"
          ],
          "name": "stdout"
        },
        {
          "output_type": "stream",
          "text": [
            "/usr/local/lib/python3.6/dist-packages/sklearn/svm/_base.py:947: ConvergenceWarning: Liblinear failed to converge, increase the number of iterations.\n",
            "  \"the number of iterations.\", ConvergenceWarning)\n"
          ],
          "name": "stderr"
        }
      ]
    },
    {
      "cell_type": "code",
      "metadata": {
        "id": "CozxnkVaGJ_F",
        "outputId": "d1eb3685-2866-4e5f-f175-650685683b65",
        "colab": {
          "base_uri": "https://localhost:8080/",
          "height": 232
        }
      },
      "source": [
        "from sklearn.pipeline import Pipeline\n",
        "\n",
        "pipe = Pipeline([\n",
        "    ('feature_transformer', FastICA(15)),\n",
        "    ('bagger', BaggingClassifier())])\n",
        "\n",
        "\n",
        "pipe.fit(X_train, y_train)\n",
        "\n",
        "print(classification_report(pipe.predict(X_test), y_test))"
      ],
      "execution_count": 17,
      "outputs": [
        {
          "output_type": "stream",
          "text": [
            "/usr/local/lib/python3.6/dist-packages/sklearn/decomposition/_fastica.py:119: ConvergenceWarning: FastICA did not converge. Consider increasing tolerance or the maximum number of iterations.\n",
            "  ConvergenceWarning)\n"
          ],
          "name": "stderr"
        },
        {
          "output_type": "stream",
          "text": [
            "              precision    recall  f1-score   support\n",
            "\n",
            "      female       0.98      0.96      0.97       396\n",
            "        male       0.96      0.98      0.97       396\n",
            "\n",
            "    accuracy                           0.97       792\n",
            "   macro avg       0.97      0.97      0.97       792\n",
            "weighted avg       0.97      0.97      0.97       792\n",
            "\n"
          ],
          "name": "stdout"
        }
      ]
    },
    {
      "cell_type": "markdown",
      "metadata": {
        "id": "x9UihFVNGJ_J"
      },
      "source": [
        "# There are endless possibilities\n",
        "\n",
        "Note that this is an area of research: AutoML. Basically there's so many options, so many possibilities it'd take forever to explain them all."
      ]
    },
    {
      "cell_type": "code",
      "metadata": {
        "id": "ZMuU7LX8GJ_J",
        "outputId": "b36d9616-221a-448e-9413-1b2a37810d25",
        "colab": {
          "base_uri": "https://localhost:8080/",
          "height": 176
        }
      },
      "source": [
        "from sklearn.ensemble import RandomForestClassifier\n",
        "\n",
        "clf = RandomForestClassifier()\n",
        "\n",
        "clf.fit(X_train, y_train)\n",
        "\n",
        "print(classification_report(clf.predict(X_test), y_test))"
      ],
      "execution_count": 18,
      "outputs": [
        {
          "output_type": "stream",
          "text": [
            "              precision    recall  f1-score   support\n",
            "\n",
            "      female       0.99      0.97      0.98       397\n",
            "        male       0.97      0.99      0.98       395\n",
            "\n",
            "    accuracy                           0.98       792\n",
            "   macro avg       0.98      0.98      0.98       792\n",
            "weighted avg       0.98      0.98      0.98       792\n",
            "\n"
          ],
          "name": "stdout"
        }
      ]
    },
    {
      "cell_type": "code",
      "metadata": {
        "id": "jXMwMG3SGJ_O",
        "outputId": "f1bc82e3-d410-4715-c54f-1b875e3081f4",
        "colab": {
          "base_uri": "https://localhost:8080/",
          "height": 176
        }
      },
      "source": [
        "from xgboost import XGBClassifier\n",
        "\n",
        "clf = XGBClassifier()\n",
        "clf.fit(X_train, y_train)\n",
        "\n",
        "print(classification_report(clf.predict(X_test), y_test))"
      ],
      "execution_count": 19,
      "outputs": [
        {
          "output_type": "stream",
          "text": [
            "              precision    recall  f1-score   support\n",
            "\n",
            "      female       0.99      0.97      0.98       396\n",
            "        male       0.97      0.99      0.98       396\n",
            "\n",
            "    accuracy                           0.98       792\n",
            "   macro avg       0.98      0.98      0.98       792\n",
            "weighted avg       0.98      0.98      0.98       792\n",
            "\n"
          ],
          "name": "stdout"
        }
      ]
    },
    {
      "cell_type": "code",
      "metadata": {
        "id": "a4lcZF9tGJ_R",
        "outputId": "1e8e9101-a03c-41ed-cb8c-247804641b64",
        "colab": {
          "base_uri": "https://localhost:8080/",
          "height": 176
        }
      },
      "source": [
        "from sklearn.preprocessing import StandardScaler\n",
        "\n",
        "pipe = Pipeline([\n",
        "    ('scaler', StandardScaler()),\n",
        "    ('transformer', PCA(10)),\n",
        "    ('estimator', XGBClassifier())\n",
        "])\n",
        "\n",
        "pipe.fit(X_train, y_train)\n",
        "\n",
        "\n",
        "print(classification_report(pipe.predict(X_test), y_test))"
      ],
      "execution_count": 20,
      "outputs": [
        {
          "output_type": "stream",
          "text": [
            "              precision    recall  f1-score   support\n",
            "\n",
            "      female       0.98      0.96      0.97       395\n",
            "        male       0.96      0.98      0.97       397\n",
            "\n",
            "    accuracy                           0.97       792\n",
            "   macro avg       0.97      0.97      0.97       792\n",
            "weighted avg       0.97      0.97      0.97       792\n",
            "\n"
          ],
          "name": "stdout"
        }
      ]
    }
  ]
}